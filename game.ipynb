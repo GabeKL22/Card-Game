{
 "cells": [
  {
   "attachments": {},
   "cell_type": "markdown",
   "metadata": {},
   "source": [
    "### This is a simple example of using OOP in Python (Creating a card game)"
   ]
  },
  {
   "cell_type": "code",
   "execution_count": 491,
   "metadata": {},
   "outputs": [],
   "source": [
    "import random"
   ]
  },
  {
   "cell_type": "code",
   "execution_count": 492,
   "metadata": {},
   "outputs": [],
   "source": [
    "class Card:\n",
    "    suits = ['\\u2666', '\\u2665', '\\u2663', '\\u2660']\n",
    "    ranks = [\"2\", \"3\", \"4\", \"5\", \"6\", \"7\", \"8\", \"9\", \"10\", \"J\", \"Q\", \"K\", \"A\"]\n",
    "\n",
    "    def __init__(self, suit, rank):\n",
    "        self.suit = suit\n",
    "        self.rank = rank\n",
    "\n",
    "    def __str__(self):\n",
    "        return f\"{Card.ranks[self.rank]}{Card.suits[self.suit]}\"\n",
    "\n",
    "    def __lt__(self, other):\n",
    "        if self.rank == other.rank: #if same rank order by suit\n",
    "            return self.suit < other.suit\n",
    "        else:\n",
    "            return self.rank < other.rank"
   ]
  },
  {
   "cell_type": "code",
   "execution_count": 493,
   "metadata": {},
   "outputs": [],
   "source": [
    "class Deck:\n",
    "    def __init__(self):\n",
    "        self.deck = []\n",
    "        for suit in range(4):\n",
    "            for rank in range(13):\n",
    "                self.deck.append(Card(suit, rank))\n",
    "        self.shuffle()\n",
    "    def __len__(self):\n",
    "        return len(self.deck)\n",
    "    \n",
    "    def add_card(self, card):\n",
    "        self.deck.append(card)\n",
    "    \n",
    "    def pop_card(self):\n",
    "        return self.deck.pop()\n",
    "\n",
    "    def shuffle(self):\n",
    "        random.shuffle(self.deck)"
   ]
  },
  {
   "cell_type": "code",
   "execution_count": 494,
   "metadata": {},
   "outputs": [],
   "source": [
    "class Hand(Deck):\n",
    "    def __init__(self, label):\n",
    "        self.deck = []\n",
    "        self.label = label\n",
    "        self.win_count = 0\n",
    "\n",
    "    def value(self):\n",
    "        if Card.ranks == \"J\":\n",
    "            return 10\n",
    "        else:\n",
    "            return 1\n",
    "    \n",
    "    def __str__(self):\n",
    "        return self.label + ': ' + ' '.join([str(card) for card in self.deck])\n",
    "\n",
    "    def get_label(self):\n",
    "        return self.label\n",
    "\n",
    "    def get_win_count(self):\n",
    "        return self.win_count\n",
    "\n",
    "    def round_winner(self):\n",
    "        self.win_count = self.win_count + 1"
   ]
  },
  {
   "cell_type": "code",
   "execution_count": 495,
   "metadata": {},
   "outputs": [],
   "source": [
    "# ## WAR GAME\n",
    "# deck = Deck()\n",
    "\n",
    "# hands = []\n",
    "# for i in range(1, 5):\n",
    "#     hands.append(Hand(f'P{i}'))\n",
    "\n",
    "# while len(deck) > 0:\n",
    "#     for hand in hands:\n",
    "#         hand.add_card(deck.pop_card())\n",
    "\n",
    "# print(hands[0])\n",
    "\n",
    "# for i in range(13):\n",
    "#     input()\n",
    "#     played_cards = []\n",
    "#     for hand in hands:\n",
    "#         played_cards.append(hand.pop_card())\n",
    "\n",
    "#     winner_card = max(played_cards)\n",
    "#     winner_hand = hands[played_cards.index(winner_card)]\n",
    "#     winner_hand.round_winner()\n",
    "\n",
    "    \n",
    "\n",
    "#     print(f\"R{i}: \" + ' '.join([str(card) for card in played_cards]) + f' Winner: {winner_hand.get_label()} {str(winner_card)}')\n",
    "\n",
    "# for hand in hands:\n",
    "#     print(f\"Score for {hand.get_label()}: {hand.get_win_count()}\")"
   ]
  },
  {
   "cell_type": "code",
   "execution_count": 496,
   "metadata": {},
   "outputs": [
    {
     "name": "stdout",
     "output_type": "stream",
     "text": [
      "Player: 5♣\n",
      "Dealer: 3♦ 8♥\n",
      "Player: 5♣ 8♦\n",
      "Player: 5♣ 8♦ 3♣\n",
      "Player: 5♣ 8♦ 3♣ 3♠\n",
      "Player: 5♣ 8♦ 3♣ 3♠ Q♥\n"
     ]
    }
   ],
   "source": [
    "## BLACKJACK\n",
    "\n",
    "deck = Deck()\n",
    "\n",
    "player = Hand(\"Player\")\n",
    "dealer = Hand(\"Dealer\")\n",
    "\n",
    "# Initial deal\n",
    "player.add_card(deck.pop_card())\n",
    "for i in range(2):\n",
    "    dealer.add_card(deck.pop_card())\n",
    "\n",
    "print(player)\n",
    "print(dealer)\n",
    "\n",
    "hit_or_stay = \"h\"\n",
    "while hit_or_stay != \"s\":\n",
    "    player.add_card(deck.pop_card())\n",
    "    hit_or_stay = input(\"Hit(h), Stay(s)\")\n",
    "    print(player)\n",
    "    \n",
    "\n",
    "\n",
    "\n"
   ]
  }
 ],
 "metadata": {
  "kernelspec": {
   "display_name": "venv",
   "language": "python",
   "name": "python3"
  },
  "language_info": {
   "codemirror_mode": {
    "name": "ipython",
    "version": 3
   },
   "file_extension": ".py",
   "mimetype": "text/x-python",
   "name": "python",
   "nbconvert_exporter": "python",
   "pygments_lexer": "ipython3",
   "version": "3.8.3"
  },
  "orig_nbformat": 4,
  "vscode": {
   "interpreter": {
    "hash": "720a0e621fcf7b651758be9c8b68a741487d253d36b8e74428237bb3ee22d767"
   }
  }
 },
 "nbformat": 4,
 "nbformat_minor": 2
}
